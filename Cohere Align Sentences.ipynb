{
  "nbformat": 4,
  "nbformat_minor": 0,
  "metadata": {
    "colab": {
      "provenance": [],
      "gpuType": "T4"
    },
    "kernelspec": {
      "name": "python3",
      "display_name": "Python 3"
    },
    "language_info": {
      "name": "python"
    },
    "accelerator": "GPU",
    "gpuClass": "standard"
  },
  "cells": [
    {
      "cell_type": "code",
      "source": [
        "!git clone https://github.com/abumafrim/Cohere-Align.git"
      ],
      "metadata": {
        "id": "UXww1bgneo73"
      },
      "execution_count": null,
      "outputs": []
    },
    {
      "cell_type": "code",
      "source": [
        "%cd Cohere-Align"
      ],
      "metadata": {
        "id": "2dvcWBgICSZd"
      },
      "execution_count": null,
      "outputs": []
    },
    {
      "cell_type": "code",
      "source": [
        "!pip install cohere"
      ],
      "metadata": {
        "id": "pYAu2_BOCZEc"
      },
      "execution_count": null,
      "outputs": []
    },
    {
      "cell_type": "code",
      "source": [
        "!python3 scripts/cohere_align.py \\\n",
        "  --cohere_api_key '<api_key>' \\\n",
        "  -m 'embed-multilingual-v2.0' \\\n",
        "  -s src.txt \\\n",
        "  -t trg.txt \\\n",
        "  -o cohere \\\n",
        "  --retrieval 'nn' \\\n",
        "  --dot \\\n",
        "  --cuda"
      ],
      "metadata": {
        "id": "ZFzW9cCrCLyB"
      },
      "execution_count": null,
      "outputs": []
    }
  ]
}
